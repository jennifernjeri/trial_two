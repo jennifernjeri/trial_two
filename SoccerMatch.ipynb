countries = []
for team in soccer_match:
    for key, value in team.items():
        if key == "country":
            countries.append(value)
print(countries)
